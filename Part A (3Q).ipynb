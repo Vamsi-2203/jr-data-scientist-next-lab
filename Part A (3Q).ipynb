{
 "cells": [
  {
   "cell_type": "markdown",
   "metadata": {},
   "source": [
    "# Ranking Data - Understanding the co-relation between keyword rankings with description or any other attribute."
   ]
  },
  {
   "cell_type": "code",
   "execution_count": null,
   "metadata": {},
   "outputs": [],
   "source": []
  },
  {
   "cell_type": "code",
   "execution_count": 35,
   "metadata": {},
   "outputs": [
    {
     "data": {
      "text/html": [
       "<div>\n",
       "<style scoped>\n",
       "    .dataframe tbody tr th:only-of-type {\n",
       "        vertical-align: middle;\n",
       "    }\n",
       "\n",
       "    .dataframe tbody tr th {\n",
       "        vertical-align: top;\n",
       "    }\n",
       "\n",
       "    .dataframe thead th {\n",
       "        text-align: right;\n",
       "    }\n",
       "</style>\n",
       "<table border=\"1\" class=\"dataframe\">\n",
       "  <thead>\n",
       "    <tr style=\"text-align: right;\">\n",
       "      <th></th>\n",
       "      <th>ID</th>\n",
       "      <th>Keyword</th>\n",
       "      <th>Rank</th>\n",
       "      <th>Country</th>\n",
       "      <th>Language</th>\n",
       "      <th>Date</th>\n",
       "      <th>App ID</th>\n",
       "      <th>Date of Last Description Change</th>\n",
       "      <th>Short Description</th>\n",
       "      <th>Long Description</th>\n",
       "    </tr>\n",
       "  </thead>\n",
       "  <tbody>\n",
       "    <tr>\n",
       "      <th>0</th>\n",
       "      <td>1</td>\n",
       "      <td>browser</td>\n",
       "      <td>2.0</td>\n",
       "      <td>in</td>\n",
       "      <td>en</td>\n",
       "      <td>16-12-2020</td>\n",
       "      <td>net.fast.web.browser</td>\n",
       "      <td>18-12-2020</td>\n",
       "      <td>The small, fastest, secure Web Browser, best m...</td>\n",
       "      <td>One of the smallest, fastest, secure Web Brows...</td>\n",
       "    </tr>\n",
       "    <tr>\n",
       "      <th>1</th>\n",
       "      <td>2</td>\n",
       "      <td>browser</td>\n",
       "      <td>3.0</td>\n",
       "      <td>in</td>\n",
       "      <td>en</td>\n",
       "      <td>16-12-2020</td>\n",
       "      <td>com.android.chrome</td>\n",
       "      <td>18-12-2020</td>\n",
       "      <td>Fast, simple, and secure. Google Chrome browse...</td>\n",
       "      <td>Google Chrome is a fast, easy to use, and secu...</td>\n",
       "    </tr>\n",
       "    <tr>\n",
       "      <th>2</th>\n",
       "      <td>3</td>\n",
       "      <td>browser</td>\n",
       "      <td>4.0</td>\n",
       "      <td>in</td>\n",
       "      <td>en</td>\n",
       "      <td>16-12-2020</td>\n",
       "      <td>com.opera.browser</td>\n",
       "      <td>27-02-2021</td>\n",
       "      <td>Fast, safe web browser: free VPN, Ad blocker, ...</td>\n",
       "      <td>Fast, safe and private, introducing the latest...</td>\n",
       "    </tr>\n",
       "    <tr>\n",
       "      <th>3</th>\n",
       "      <td>3</td>\n",
       "      <td>browser</td>\n",
       "      <td>4.0</td>\n",
       "      <td>in</td>\n",
       "      <td>en</td>\n",
       "      <td>16-12-2020</td>\n",
       "      <td>com.opera.browser</td>\n",
       "      <td>18-12-2020</td>\n",
       "      <td>Fast, safe web browser: free VPN, Ad blocker, ...</td>\n",
       "      <td>Opera is a fast, safe web browser for your And...</td>\n",
       "    </tr>\n",
       "    <tr>\n",
       "      <th>4</th>\n",
       "      <td>4</td>\n",
       "      <td>browser</td>\n",
       "      <td>1.0</td>\n",
       "      <td>in</td>\n",
       "      <td>en</td>\n",
       "      <td>16-12-2020</td>\n",
       "      <td>com.cloudmosa.puffinTV</td>\n",
       "      <td>07-02-2021</td>\n",
       "      <td>Puffin TV Browser - One App to Watch All Video...</td>\n",
       "      <td>Puffin TV Browser is a special edition of Puff...</td>\n",
       "    </tr>\n",
       "  </tbody>\n",
       "</table>\n",
       "</div>"
      ],
      "text/plain": [
       "   ID  Keyword  Rank Country Language        Date                  App ID  \\\n",
       "0   1  browser   2.0      in       en  16-12-2020    net.fast.web.browser   \n",
       "1   2  browser   3.0      in       en  16-12-2020      com.android.chrome   \n",
       "2   3  browser   4.0      in       en  16-12-2020       com.opera.browser   \n",
       "3   3  browser   4.0      in       en  16-12-2020       com.opera.browser   \n",
       "4   4  browser   1.0      in       en  16-12-2020  com.cloudmosa.puffinTV   \n",
       "\n",
       "  Date of Last Description Change  \\\n",
       "0                      18-12-2020   \n",
       "1                      18-12-2020   \n",
       "2                      27-02-2021   \n",
       "3                      18-12-2020   \n",
       "4                      07-02-2021   \n",
       "\n",
       "                                   Short Description  \\\n",
       "0  The small, fastest, secure Web Browser, best m...   \n",
       "1  Fast, simple, and secure. Google Chrome browse...   \n",
       "2  Fast, safe web browser: free VPN, Ad blocker, ...   \n",
       "3  Fast, safe web browser: free VPN, Ad blocker, ...   \n",
       "4  Puffin TV Browser - One App to Watch All Video...   \n",
       "\n",
       "                                    Long Description  \n",
       "0  One of the smallest, fastest, secure Web Brows...  \n",
       "1  Google Chrome is a fast, easy to use, and secu...  \n",
       "2  Fast, safe and private, introducing the latest...  \n",
       "3  Opera is a fast, safe web browser for your And...  \n",
       "4  Puffin TV Browser is a special edition of Puff...  "
      ]
     },
     "execution_count": 35,
     "metadata": {},
     "output_type": "execute_result"
    }
   ],
   "source": [
    "import pandas as pd\n",
    "import numpy as np\n",
    "import matplotlib.pyplot as plt\n",
    "import seaborn as sns\n",
    "\n",
    "data = pd.read_csv('browser_rankings_data.csv')\n",
    "\n",
    "data.head()"
   ]
  },
  {
   "cell_type": "code",
   "execution_count": 36,
   "metadata": {},
   "outputs": [
    {
     "data": {
      "text/plain": [
       "Index(['ID', 'Keyword', 'Rank', 'Country', 'Language', 'Date', 'App ID',\n",
       "       'Date of Last Description Change', 'Short Description',\n",
       "       'Long Description'],\n",
       "      dtype='object')"
      ]
     },
     "execution_count": 36,
     "metadata": {},
     "output_type": "execute_result"
    }
   ],
   "source": [
    "#getting info\n",
    "data.columns"
   ]
  },
  {
   "cell_type": "code",
   "execution_count": 38,
   "metadata": {},
   "outputs": [
    {
     "name": "stdout",
     "output_type": "stream",
     "text": [
      "<class 'pandas.core.frame.DataFrame'>\n",
      "RangeIndex: 3066 entries, 0 to 3065\n",
      "Data columns (total 10 columns):\n",
      " #   Column                           Non-Null Count  Dtype  \n",
      "---  ------                           --------------  -----  \n",
      " 0   ID                               3066 non-null   int64  \n",
      " 1   Keyword                          3066 non-null   object \n",
      " 2   Rank                             3050 non-null   float64\n",
      " 3   Country                          3066 non-null   object \n",
      " 4   Language                         3066 non-null   object \n",
      " 5   Date                             3066 non-null   object \n",
      " 6   App ID                           3066 non-null   object \n",
      " 7   Date of Last Description Change  3066 non-null   object \n",
      " 8   Short Description                3066 non-null   object \n",
      " 9   Long Description                 3066 non-null   object \n",
      "dtypes: float64(1), int64(1), object(8)\n",
      "memory usage: 239.7+ KB\n"
     ]
    }
   ],
   "source": [
    "data.info()"
   ]
  },
  {
   "cell_type": "code",
   "execution_count": 37,
   "metadata": {},
   "outputs": [
    {
     "data": {
      "text/html": [
       "<div>\n",
       "<style scoped>\n",
       "    .dataframe tbody tr th:only-of-type {\n",
       "        vertical-align: middle;\n",
       "    }\n",
       "\n",
       "    .dataframe tbody tr th {\n",
       "        vertical-align: top;\n",
       "    }\n",
       "\n",
       "    .dataframe thead th {\n",
       "        text-align: right;\n",
       "    }\n",
       "</style>\n",
       "<table border=\"1\" class=\"dataframe\">\n",
       "  <thead>\n",
       "    <tr style=\"text-align: right;\">\n",
       "      <th></th>\n",
       "      <th>ID</th>\n",
       "      <th>Rank</th>\n",
       "    </tr>\n",
       "  </thead>\n",
       "  <tbody>\n",
       "    <tr>\n",
       "      <th>count</th>\n",
       "      <td>3066.000000</td>\n",
       "      <td>3050.000000</td>\n",
       "    </tr>\n",
       "    <tr>\n",
       "      <th>mean</th>\n",
       "      <td>57109.156230</td>\n",
       "      <td>15.155738</td>\n",
       "    </tr>\n",
       "    <tr>\n",
       "      <th>std</th>\n",
       "      <td>39290.651658</td>\n",
       "      <td>24.268403</td>\n",
       "    </tr>\n",
       "    <tr>\n",
       "      <th>min</th>\n",
       "      <td>1.000000</td>\n",
       "      <td>1.000000</td>\n",
       "    </tr>\n",
       "    <tr>\n",
       "      <th>25%</th>\n",
       "      <td>22484.000000</td>\n",
       "      <td>2.000000</td>\n",
       "    </tr>\n",
       "    <tr>\n",
       "      <th>50%</th>\n",
       "      <td>52427.000000</td>\n",
       "      <td>5.000000</td>\n",
       "    </tr>\n",
       "    <tr>\n",
       "      <th>75%</th>\n",
       "      <td>90683.750000</td>\n",
       "      <td>16.000000</td>\n",
       "    </tr>\n",
       "    <tr>\n",
       "      <th>max</th>\n",
       "      <td>131576.000000</td>\n",
       "      <td>134.000000</td>\n",
       "    </tr>\n",
       "  </tbody>\n",
       "</table>\n",
       "</div>"
      ],
      "text/plain": [
       "                  ID         Rank\n",
       "count    3066.000000  3050.000000\n",
       "mean    57109.156230    15.155738\n",
       "std     39290.651658    24.268403\n",
       "min         1.000000     1.000000\n",
       "25%     22484.000000     2.000000\n",
       "50%     52427.000000     5.000000\n",
       "75%     90683.750000    16.000000\n",
       "max    131576.000000   134.000000"
      ]
     },
     "execution_count": 37,
     "metadata": {},
     "output_type": "execute_result"
    }
   ],
   "source": [
    "#describing the dataset\n",
    "data.describe()"
   ]
  },
  {
   "cell_type": "markdown",
   "metadata": {},
   "source": [
    "## Data Preprocessing"
   ]
  },
  {
   "cell_type": "code",
   "execution_count": 39,
   "metadata": {},
   "outputs": [
    {
     "data": {
      "text/plain": [
       "3066"
      ]
     },
     "execution_count": 39,
     "metadata": {},
     "output_type": "execute_result"
    }
   ],
   "source": [
    "#Filling unranked keywords with 0\n",
    "data[\"Rank\"] = data.Rank.fillna(0).astype(int)\n",
    "len(data.Rank)"
   ]
  },
  {
   "cell_type": "code",
   "execution_count": null,
   "metadata": {},
   "outputs": [],
   "source": []
  },
  {
   "cell_type": "code",
   "execution_count": 44,
   "metadata": {},
   "outputs": [
    {
     "name": "stdout",
     "output_type": "stream",
     "text": [
      "Total categorical columns are 8, They are ['Keyword', 'Country', 'Language', 'Date', 'App ID', 'Date of Last Description Change', 'Short Description', 'Long Description']\n"
     ]
    }
   ],
   "source": [
    "#creating a variable for categorical columns\n",
    "categorical_cols = [cname for cname in data.columns  if data[cname].dtype == object]\n",
    "print(f\"Total categorical columns are {len(categorical_cols)}, They are {categorical_cols}\")"
   ]
  },
  {
   "cell_type": "code",
   "execution_count": 45,
   "metadata": {},
   "outputs": [],
   "source": [
    "from sklearn.preprocessing import LabelEncoder\n",
    "# instantiate labelencoder object\n",
    "le = LabelEncoder()\n",
    "\n",
    "# apply le on categorical feature columns\n",
    "data[categorical_cols] = data[categorical_cols].apply(lambda col: le.fit_transform(col))    "
   ]
  },
  {
   "cell_type": "code",
   "execution_count": 46,
   "metadata": {},
   "outputs": [
    {
     "data": {
      "text/html": [
       "<div>\n",
       "<style scoped>\n",
       "    .dataframe tbody tr th:only-of-type {\n",
       "        vertical-align: middle;\n",
       "    }\n",
       "\n",
       "    .dataframe tbody tr th {\n",
       "        vertical-align: top;\n",
       "    }\n",
       "\n",
       "    .dataframe thead th {\n",
       "        text-align: right;\n",
       "    }\n",
       "</style>\n",
       "<table border=\"1\" class=\"dataframe\">\n",
       "  <thead>\n",
       "    <tr style=\"text-align: right;\">\n",
       "      <th></th>\n",
       "      <th>ID</th>\n",
       "      <th>Keyword</th>\n",
       "      <th>Rank</th>\n",
       "      <th>Country</th>\n",
       "      <th>Language</th>\n",
       "      <th>Date</th>\n",
       "      <th>App ID</th>\n",
       "      <th>Date of Last Description Change</th>\n",
       "      <th>Short Description</th>\n",
       "      <th>Long Description</th>\n",
       "    </tr>\n",
       "  </thead>\n",
       "  <tbody>\n",
       "    <tr>\n",
       "      <th>0</th>\n",
       "      <td>1</td>\n",
       "      <td>3</td>\n",
       "      <td>2</td>\n",
       "      <td>0</td>\n",
       "      <td>0</td>\n",
       "      <td>37</td>\n",
       "      <td>7</td>\n",
       "      <td>3</td>\n",
       "      <td>8</td>\n",
       "      <td>2</td>\n",
       "    </tr>\n",
       "    <tr>\n",
       "      <th>1</th>\n",
       "      <td>2</td>\n",
       "      <td>3</td>\n",
       "      <td>3</td>\n",
       "      <td>0</td>\n",
       "      <td>0</td>\n",
       "      <td>37</td>\n",
       "      <td>0</td>\n",
       "      <td>3</td>\n",
       "      <td>3</td>\n",
       "      <td>1</td>\n",
       "    </tr>\n",
       "    <tr>\n",
       "      <th>2</th>\n",
       "      <td>3</td>\n",
       "      <td>3</td>\n",
       "      <td>4</td>\n",
       "      <td>0</td>\n",
       "      <td>0</td>\n",
       "      <td>37</td>\n",
       "      <td>4</td>\n",
       "      <td>5</td>\n",
       "      <td>2</td>\n",
       "      <td>0</td>\n",
       "    </tr>\n",
       "    <tr>\n",
       "      <th>3</th>\n",
       "      <td>3</td>\n",
       "      <td>3</td>\n",
       "      <td>4</td>\n",
       "      <td>0</td>\n",
       "      <td>0</td>\n",
       "      <td>37</td>\n",
       "      <td>4</td>\n",
       "      <td>3</td>\n",
       "      <td>2</td>\n",
       "      <td>3</td>\n",
       "    </tr>\n",
       "    <tr>\n",
       "      <th>4</th>\n",
       "      <td>4</td>\n",
       "      <td>3</td>\n",
       "      <td>1</td>\n",
       "      <td>0</td>\n",
       "      <td>0</td>\n",
       "      <td>37</td>\n",
       "      <td>2</td>\n",
       "      <td>1</td>\n",
       "      <td>6</td>\n",
       "      <td>9</td>\n",
       "    </tr>\n",
       "  </tbody>\n",
       "</table>\n",
       "</div>"
      ],
      "text/plain": [
       "   ID  Keyword  Rank  Country  Language  Date  App ID  \\\n",
       "0   1        3     2        0         0    37       7   \n",
       "1   2        3     3        0         0    37       0   \n",
       "2   3        3     4        0         0    37       4   \n",
       "3   3        3     4        0         0    37       4   \n",
       "4   4        3     1        0         0    37       2   \n",
       "\n",
       "   Date of Last Description Change  Short Description  Long Description  \n",
       "0                                3                  8                 2  \n",
       "1                                3                  3                 1  \n",
       "2                                5                  2                 0  \n",
       "3                                3                  2                 3  \n",
       "4                                1                  6                 9  "
      ]
     },
     "execution_count": 46,
     "metadata": {},
     "output_type": "execute_result"
    }
   ],
   "source": [
    "#Display new balanced dataset\n",
    "data.head()"
   ]
  },
  {
   "cell_type": "markdown",
   "metadata": {},
   "source": [
    "## Correlation Analysis"
   ]
  },
  {
   "cell_type": "markdown",
   "metadata": {},
   "source": [
    "We will be using Spearman's rank correlation coefficient, its mathematical calculation.\n",
    "\n",
    "Spearman rank correlation coefficient measures the monotonic relation between two variables. Its values range from `-1 to +1`"
   ]
  },
  {
   "cell_type": "code",
   "execution_count": 47,
   "metadata": {},
   "outputs": [],
   "source": [
    "#Let us define a display_correlation() function that computes the correlation coefficient\n",
    "def display_correlation(df):\n",
    "    r = df.corr(method=\"spearman\")\n",
    "    plt.figure(figsize=(10,6))\n",
    "    heatmap = sns.heatmap(r, vmin=-1, \n",
    "                      vmax=1, annot=True)\n",
    "    plt.title(\"Spearman Correlation\")\n",
    "    return(r)"
   ]
  },
  {
   "cell_type": "code",
   "execution_count": 48,
   "metadata": {},
   "outputs": [
    {
     "data": {
      "text/html": [
       "<div>\n",
       "<style scoped>\n",
       "    .dataframe tbody tr th:only-of-type {\n",
       "        vertical-align: middle;\n",
       "    }\n",
       "\n",
       "    .dataframe tbody tr th {\n",
       "        vertical-align: top;\n",
       "    }\n",
       "\n",
       "    .dataframe thead th {\n",
       "        text-align: right;\n",
       "    }\n",
       "</style>\n",
       "<table border=\"1\" class=\"dataframe\">\n",
       "  <thead>\n",
       "    <tr style=\"text-align: right;\">\n",
       "      <th></th>\n",
       "      <th>ID</th>\n",
       "      <th>Keyword</th>\n",
       "      <th>Rank</th>\n",
       "      <th>Date</th>\n",
       "      <th>App ID</th>\n",
       "      <th>Date of Last Description Change</th>\n",
       "      <th>Short Description</th>\n",
       "      <th>Long Description</th>\n",
       "    </tr>\n",
       "  </thead>\n",
       "  <tbody>\n",
       "    <tr>\n",
       "      <th>ID</th>\n",
       "      <td>1.000000</td>\n",
       "      <td>-0.000555</td>\n",
       "      <td>0.009758</td>\n",
       "      <td>-0.163787</td>\n",
       "      <td>0.002902</td>\n",
       "      <td>-0.001429</td>\n",
       "      <td>-0.008176</td>\n",
       "      <td>0.007000</td>\n",
       "    </tr>\n",
       "    <tr>\n",
       "      <th>Keyword</th>\n",
       "      <td>-0.000555</td>\n",
       "      <td>1.000000</td>\n",
       "      <td>-0.091987</td>\n",
       "      <td>-0.000207</td>\n",
       "      <td>0.073737</td>\n",
       "      <td>-0.035208</td>\n",
       "      <td>-0.205846</td>\n",
       "      <td>0.175301</td>\n",
       "    </tr>\n",
       "    <tr>\n",
       "      <th>Rank</th>\n",
       "      <td>0.009758</td>\n",
       "      <td>-0.091987</td>\n",
       "      <td>1.000000</td>\n",
       "      <td>0.005280</td>\n",
       "      <td>0.448163</td>\n",
       "      <td>0.159171</td>\n",
       "      <td>0.017396</td>\n",
       "      <td>0.043121</td>\n",
       "    </tr>\n",
       "    <tr>\n",
       "      <th>Date</th>\n",
       "      <td>-0.163787</td>\n",
       "      <td>-0.000207</td>\n",
       "      <td>0.005280</td>\n",
       "      <td>1.000000</td>\n",
       "      <td>-0.000130</td>\n",
       "      <td>0.000062</td>\n",
       "      <td>0.000362</td>\n",
       "      <td>-0.000308</td>\n",
       "    </tr>\n",
       "    <tr>\n",
       "      <th>App ID</th>\n",
       "      <td>0.002902</td>\n",
       "      <td>0.073737</td>\n",
       "      <td>0.448163</td>\n",
       "      <td>-0.000130</td>\n",
       "      <td>1.000000</td>\n",
       "      <td>0.166631</td>\n",
       "      <td>-0.140325</td>\n",
       "      <td>0.133509</td>\n",
       "    </tr>\n",
       "    <tr>\n",
       "      <th>Date of Last Description Change</th>\n",
       "      <td>-0.001429</td>\n",
       "      <td>-0.035208</td>\n",
       "      <td>0.159171</td>\n",
       "      <td>0.000062</td>\n",
       "      <td>0.166631</td>\n",
       "      <td>1.000000</td>\n",
       "      <td>0.125106</td>\n",
       "      <td>-0.441945</td>\n",
       "    </tr>\n",
       "    <tr>\n",
       "      <th>Short Description</th>\n",
       "      <td>-0.008176</td>\n",
       "      <td>-0.205846</td>\n",
       "      <td>0.017396</td>\n",
       "      <td>0.000362</td>\n",
       "      <td>-0.140325</td>\n",
       "      <td>0.125106</td>\n",
       "      <td>1.000000</td>\n",
       "      <td>-0.532480</td>\n",
       "    </tr>\n",
       "    <tr>\n",
       "      <th>Long Description</th>\n",
       "      <td>0.007000</td>\n",
       "      <td>0.175301</td>\n",
       "      <td>0.043121</td>\n",
       "      <td>-0.000308</td>\n",
       "      <td>0.133509</td>\n",
       "      <td>-0.441945</td>\n",
       "      <td>-0.532480</td>\n",
       "      <td>1.000000</td>\n",
       "    </tr>\n",
       "  </tbody>\n",
       "</table>\n",
       "</div>"
      ],
      "text/plain": [
       "                                       ID   Keyword      Rank      Date  \\\n",
       "ID                               1.000000 -0.000555  0.009758 -0.163787   \n",
       "Keyword                         -0.000555  1.000000 -0.091987 -0.000207   \n",
       "Rank                             0.009758 -0.091987  1.000000  0.005280   \n",
       "Date                            -0.163787 -0.000207  0.005280  1.000000   \n",
       "App ID                           0.002902  0.073737  0.448163 -0.000130   \n",
       "Date of Last Description Change -0.001429 -0.035208  0.159171  0.000062   \n",
       "Short Description               -0.008176 -0.205846  0.017396  0.000362   \n",
       "Long Description                 0.007000  0.175301  0.043121 -0.000308   \n",
       "\n",
       "                                   App ID  Date of Last Description Change  \\\n",
       "ID                               0.002902                        -0.001429   \n",
       "Keyword                          0.073737                        -0.035208   \n",
       "Rank                             0.448163                         0.159171   \n",
       "Date                            -0.000130                         0.000062   \n",
       "App ID                           1.000000                         0.166631   \n",
       "Date of Last Description Change  0.166631                         1.000000   \n",
       "Short Description               -0.140325                         0.125106   \n",
       "Long Description                 0.133509                        -0.441945   \n",
       "\n",
       "                                 Short Description  Long Description  \n",
       "ID                                       -0.008176          0.007000  \n",
       "Keyword                                  -0.205846          0.175301  \n",
       "Rank                                      0.017396          0.043121  \n",
       "Date                                      0.000362         -0.000308  \n",
       "App ID                                   -0.140325          0.133509  \n",
       "Date of Last Description Change           0.125106         -0.441945  \n",
       "Short Description                         1.000000         -0.532480  \n",
       "Long Description                         -0.532480          1.000000  "
      ]
     },
     "execution_count": 48,
     "metadata": {},
     "output_type": "execute_result"
    },
    {
     "data": {
      "image/png": "[encoded data removed]",
      "text/plain": [
       "<Figure size 720x432 with 2 Axes>"
      ]
     },
     "metadata": {
      "needs_background": "light"
     },
     "output_type": "display_data"
    }
   ],
   "source": [
    "#Lets correlate dataset and visualize it using heatmap\n",
    "#droping country and language features because of null values\n",
    "display_correlation(data.drop([\"Country\",\"Language\"], axis=1))"
   ]
  },
  {
   "cell_type": "markdown",
   "metadata": {},
   "source": [
    "After corelating data we can figure out that is some negative corelating data present, but lets check corelation of individual features with ranking."
   ]
  },
  {
   "cell_type": "code",
   "execution_count": 49,
   "metadata": {},
   "outputs": [
    {
     "data": {
      "text/html": [
       "<div>\n",
       "<style scoped>\n",
       "    .dataframe tbody tr th:only-of-type {\n",
       "        vertical-align: middle;\n",
       "    }\n",
       "\n",
       "    .dataframe tbody tr th {\n",
       "        vertical-align: top;\n",
       "    }\n",
       "\n",
       "    .dataframe thead th {\n",
       "        text-align: right;\n",
       "    }\n",
       "</style>\n",
       "<table border=\"1\" class=\"dataframe\">\n",
       "  <thead>\n",
       "    <tr style=\"text-align: right;\">\n",
       "      <th></th>\n",
       "      <th>Rank</th>\n",
       "      <th>Short Description</th>\n",
       "    </tr>\n",
       "  </thead>\n",
       "  <tbody>\n",
       "    <tr>\n",
       "      <th>Rank</th>\n",
       "      <td>1.000000</td>\n",
       "      <td>0.017396</td>\n",
       "    </tr>\n",
       "    <tr>\n",
       "      <th>Short Description</th>\n",
       "      <td>0.017396</td>\n",
       "      <td>1.000000</td>\n",
       "    </tr>\n",
       "  </tbody>\n",
       "</table>\n",
       "</div>"
      ],
      "text/plain": [
       "                       Rank  Short Description\n",
       "Rank               1.000000           0.017396\n",
       "Short Description  0.017396           1.000000"
      ]
     },
     "execution_count": 49,
     "metadata": {},
     "output_type": "execute_result"
    },
    {
     "data": {
      "image/png": "[encoded data removed]",
      "text/plain": [
       "<Figure size 720x432 with 2 Axes>"
      ]
     },
     "metadata": {
      "needs_background": "light"
     },
     "output_type": "display_data"
    }
   ],
   "source": [
    "#Lets check the corellation between Short discription and rank\n",
    "data_SD = data[[\"Rank\",\"Short Description\"]]\n",
    "display_correlation(data_SD)"
   ]
  },
  {
   "cell_type": "markdown",
   "metadata": {},
   "source": [
    "According to Spearman Rank Correlation method, the rank correlation coefficient measures the monotonic relation between `0` and `+2.0` which tells us that the features \"Rank\" and \"Short Description\" share a `Non-monotonic relation` which means \"A non-monotonic function is where the increase in the value of one variable can sometimes lead to an increase and sometimes lead to a decrease in the value of the other variable\"."
   ]
  },
  {
   "cell_type": "code",
   "execution_count": 50,
   "metadata": {},
   "outputs": [
    {
     "data": {
      "text/html": [
       "<div>\n",
       "<style scoped>\n",
       "    .dataframe tbody tr th:only-of-type {\n",
       "        vertical-align: middle;\n",
       "    }\n",
       "\n",
       "    .dataframe tbody tr th {\n",
       "        vertical-align: top;\n",
       "    }\n",
       "\n",
       "    .dataframe thead th {\n",
       "        text-align: right;\n",
       "    }\n",
       "</style>\n",
       "<table border=\"1\" class=\"dataframe\">\n",
       "  <thead>\n",
       "    <tr style=\"text-align: right;\">\n",
       "      <th></th>\n",
       "      <th>Rank</th>\n",
       "      <th>Long Description</th>\n",
       "    </tr>\n",
       "  </thead>\n",
       "  <tbody>\n",
       "    <tr>\n",
       "      <th>Rank</th>\n",
       "      <td>1.000000</td>\n",
       "      <td>0.043121</td>\n",
       "    </tr>\n",
       "    <tr>\n",
       "      <th>Long Description</th>\n",
       "      <td>0.043121</td>\n",
       "      <td>1.000000</td>\n",
       "    </tr>\n",
       "  </tbody>\n",
       "</table>\n",
       "</div>"
      ],
      "text/plain": [
       "                      Rank  Long Description\n",
       "Rank              1.000000          0.043121\n",
       "Long Description  0.043121          1.000000"
      ]
     },
     "execution_count": 50,
     "metadata": {},
     "output_type": "execute_result"
    },
    {
     "data": {
      "image/png": "[encoded data removed]",
      "text/plain": [
       "<Figure size 720x432 with 2 Axes>"
      ]
     },
     "metadata": {
      "needs_background": "light"
     },
     "output_type": "display_data"
    }
   ],
   "source": [
    "#Lets check the corellation between Lond discription and rank\n",
    "data_LD = data[[\"Rank\",\"Long Description\"]]\n",
    "display_correlation(data_LD)"
   ]
  },
  {
   "cell_type": "markdown",
   "metadata": {},
   "source": [
    "According to Spearman Rank Correlation method, the rank correlation coefficient measures the monotonic relation between `0` and `+2.0` which tells us that the features \"Rank\" and \"Long Description\" share a `Non-monotonic relation` which means \"A non-monotonic function is where the increase in the value of one variable can sometimes lead to an increase and sometimes lead to a decrease in the value of the other variable\"."
   ]
  },
  {
   "cell_type": "code",
   "execution_count": 51,
   "metadata": {},
   "outputs": [
    {
     "data": {
      "text/html": [
       "<div>\n",
       "<style scoped>\n",
       "    .dataframe tbody tr th:only-of-type {\n",
       "        vertical-align: middle;\n",
       "    }\n",
       "\n",
       "    .dataframe tbody tr th {\n",
       "        vertical-align: top;\n",
       "    }\n",
       "\n",
       "    .dataframe thead th {\n",
       "        text-align: right;\n",
       "    }\n",
       "</style>\n",
       "<table border=\"1\" class=\"dataframe\">\n",
       "  <thead>\n",
       "    <tr style=\"text-align: right;\">\n",
       "      <th></th>\n",
       "      <th>Rank</th>\n",
       "      <th>App ID</th>\n",
       "    </tr>\n",
       "  </thead>\n",
       "  <tbody>\n",
       "    <tr>\n",
       "      <th>Rank</th>\n",
       "      <td>1.000000</td>\n",
       "      <td>0.448163</td>\n",
       "    </tr>\n",
       "    <tr>\n",
       "      <th>App ID</th>\n",
       "      <td>0.448163</td>\n",
       "      <td>1.000000</td>\n",
       "    </tr>\n",
       "  </tbody>\n",
       "</table>\n",
       "</div>"
      ],
      "text/plain": [
       "            Rank    App ID\n",
       "Rank    1.000000  0.448163\n",
       "App ID  0.448163  1.000000"
      ]
     },
     "execution_count": 51,
     "metadata": {},
     "output_type": "execute_result"
    },
    {
     "data": {
      "image/png": "[encoded data removed]",
      "text/plain": [
       "<Figure size 720x432 with 2 Axes>"
      ]
     },
     "metadata": {
      "needs_background": "light"
     },
     "output_type": "display_data"
    }
   ],
   "source": [
    "#Lets check the corellation between App Id  and rank\n",
    "data_ID = data[[\"Rank\",\"App ID\"]]\n",
    "display_correlation(data_ID)"
   ]
  },
  {
   "cell_type": "markdown",
   "metadata": {},
   "source": [
    "According to Spearman Rank Correlation method, the rank correlation coefficient measures the monotonic relation between `+0.2` and `+0.8` which tells us that the features \"Rank\" and \"Long Description\" share a `Weak monotonically increasing relationship` which means \"For a monotonically increasing function, as X increases, Y also increases (and it doesn't have to be linear)\"."
   ]
  },
  {
   "cell_type": "code",
   "execution_count": 52,
   "metadata": {},
   "outputs": [
    {
     "data": {
      "text/html": [
       "<div>\n",
       "<style scoped>\n",
       "    .dataframe tbody tr th:only-of-type {\n",
       "        vertical-align: middle;\n",
       "    }\n",
       "\n",
       "    .dataframe tbody tr th {\n",
       "        vertical-align: top;\n",
       "    }\n",
       "\n",
       "    .dataframe thead th {\n",
       "        text-align: right;\n",
       "    }\n",
       "</style>\n",
       "<table border=\"1\" class=\"dataframe\">\n",
       "  <thead>\n",
       "    <tr style=\"text-align: right;\">\n",
       "      <th></th>\n",
       "      <th>Rank</th>\n",
       "      <th>Keyword</th>\n",
       "    </tr>\n",
       "  </thead>\n",
       "  <tbody>\n",
       "    <tr>\n",
       "      <th>Rank</th>\n",
       "      <td>1.000000</td>\n",
       "      <td>-0.091987</td>\n",
       "    </tr>\n",
       "    <tr>\n",
       "      <th>Keyword</th>\n",
       "      <td>-0.091987</td>\n",
       "      <td>1.000000</td>\n",
       "    </tr>\n",
       "  </tbody>\n",
       "</table>\n",
       "</div>"
      ],
      "text/plain": [
       "             Rank   Keyword\n",
       "Rank     1.000000 -0.091987\n",
       "Keyword -0.091987  1.000000"
      ]
     },
     "execution_count": 52,
     "metadata": {},
     "output_type": "execute_result"
    },
    {
     "data": {
      "image/png": "[encoded data removed]",
      "text/plain": [
       "<Figure size 720x432 with 2 Axes>"
      ]
     },
     "metadata": {
      "needs_background": "light"
     },
     "output_type": "display_data"
    }
   ],
   "source": [
    "#Lets check the corellation between Keyword  and rank\n",
    "data_KW = data[[\"Rank\",\"Keyword\"]]\n",
    "display_correlation(data_KW)"
   ]
  },
  {
   "cell_type": "markdown",
   "metadata": {},
   "source": [
    "According to Spearman Rank Correlation method, the rank correlation coefficient measures the monotonic relation between `0` and `-0.2` which tells us that the features \"Rank\" and \"Long Description\" share a `Weak monotonically decreasing relationship` which means \"For a monotonically decreasing function, as one variable increases, the other one decreases (also doesn't have to be linear)\"."
   ]
  },
  {
   "cell_type": "markdown",
   "metadata": {},
   "source": [
    "# Questions:\n",
    "\n",
    "## Q1. Is there any co-relation between short description, long description and ranking? Does the placement of keyword (for example - using a keyword in the first 10 words - have any co-relation with the ranking)?"
   ]
  },
  {
   "cell_type": "markdown",
   "metadata": {},
   "source": [
    "A1. The co-relation between short description, long description and ranking very minimal when compared other features. But, as per Spearman Rank Correlation the relation between Long/Short discription is a Non-monotonic relation which suggests that increase or decrese of one variable can implement of increment or decrement of other. Here adding a keyword in the first 10 words may increse the corelation with the ranking. It's safe to say that 'discriptions' don't carry a huge impact on 'Ranking' compared to others."
   ]
  },
  {
   "cell_type": "markdown",
   "metadata": {},
   "source": [
    "## Q2. Does APP ID (Also known as package name) play any role in ranking?"
   ]
  },
  {
   "cell_type": "markdown",
   "metadata": {},
   "source": [
    "A2. Comparing to all features 'APP ID' is highly correlated to 'Ranking', according to Spearman rank correlation coefficient it has 'Weak monotonically increasing relationship' which proves that if either of variable increases then other will increse as well. 'APP ID' plays an important part in deciding ranking."
   ]
  },
  {
   "cell_type": "markdown",
   "metadata": {},
   "source": [
    "## Q3. Any other pattern or good questions that you can think of and answer?"
   ]
  },
  {
   "cell_type": "markdown",
   "metadata": {},
   "source": [
    "A3. A question arises \" Why is 'APP ID' so highly co-related to 'Ranking' than other features? \"\n",
    "The answer to this might be, it's usage of 'keywords' in it. App ID uses keywords a lot more than the discriptions, that could be one of the reasons for it's high correlation rate. "
   ]
  }
 ],
 "metadata": {
  "kernelspec": {
   "display_name": "Python 3",
   "language": "python",
   "name": "python3"
  },
  "language_info": {
   "codemirror_mode": {
    "name": "ipython",
    "version": 3
   },
   "file_extension": ".py",
   "mimetype": "text/x-python",
   "name": "python",
   "nbconvert_exporter": "python",
   "pygments_lexer": "ipython3",
   "version": "3.8.5"
  }
 },
 "nbformat": 4,
 "nbformat_minor": 4
}
